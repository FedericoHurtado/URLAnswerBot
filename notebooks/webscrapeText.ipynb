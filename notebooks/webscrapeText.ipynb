{
 "cells": [
  {
   "cell_type": "markdown",
   "metadata": {},
   "source": [
    "## IDEA\n",
    "Notebook to experiment and get methods for web scraping text from URL. We will combine this into a script once we are ready.\n"
   ]
  },
  {
   "cell_type": "code",
   "execution_count": 3,
   "metadata": {},
   "outputs": [],
   "source": [
    "import bs4\n",
    "import requests"
   ]
  },
  {
   "cell_type": "code",
   "execution_count": 1,
   "metadata": {},
   "outputs": [],
   "source": [
    "# function to scrape all paragraph text from website\n",
    "def scrape_text_from_url(url):\n",
    "\n",
    "    response = requests.get(url)\n",
    "\n",
    "    # ensure good response\n",
    "    if response.status_code == 200:\n",
    "        # parse paragraphs\n",
    "        soup = bs4.BeautifulSoup(response.text, 'html.parser')\n",
    "\n",
    "        # get text from all <p> tags\n",
    "        paragraphs = soup.find_all('p')\n",
    "\n",
    "        # extract text from each paragraph and join it into a single string\n",
    "        found_text = '\\n'.join([paragraph.get_text() for paragraph in paragraphs])\n",
    "\n",
    "        return found_text\n",
    "    else:\n",
    "        # return empty string upon a failed get request\n",
    "        return \"\""
   ]
  },
  {
   "cell_type": "code",
   "execution_count": null,
   "metadata": {},
   "outputs": [],
   "source": [
    "url = \"https://en.wikipedia.org/wiki/Machine_learning\"\n",
    "\n",
    "url_text = scrape_paragraph_from_url(url)"
   ]
  }
 ],
 "metadata": {
  "kernelspec": {
   "display_name": "Python 3",
   "language": "python",
   "name": "python3"
  },
  "language_info": {
   "codemirror_mode": {
    "name": "ipython",
    "version": 3
   },
   "file_extension": ".py",
   "mimetype": "text/x-python",
   "name": "python",
   "nbconvert_exporter": "python",
   "pygments_lexer": "ipython3",
   "version": "3.11.0"
  }
 },
 "nbformat": 4,
 "nbformat_minor": 2
}
